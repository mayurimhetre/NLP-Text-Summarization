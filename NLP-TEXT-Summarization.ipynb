{
 "cells": [
  {
   "cell_type": "code",
   "execution_count": 1,
   "id": "8508f086",
   "metadata": {},
   "outputs": [],
   "source": [
    "import numpy as np \n",
    "import nltk"
   ]
  },
  {
   "cell_type": "code",
   "execution_count": 2,
   "id": "220d0d62",
   "metadata": {},
   "outputs": [],
   "source": [
    "text = 'Peter and Elizabeth took a taxi to attend the night party in the city. While in the party, Elizabeth collapsed and was rushed to the hospital. Since she was diagnosed with a brain injury, the doctor told Peter to stay besides her until she gets well. Therefore, Peter stayed with her at the hospital for 3 days without leaving'"
   ]
  },
  {
   "cell_type": "code",
   "execution_count": 3,
   "id": "1bb706fe",
   "metadata": {},
   "outputs": [
    {
     "data": {
      "text/plain": [
       "326"
      ]
     },
     "execution_count": 3,
     "metadata": {},
     "output_type": "execute_result"
    }
   ],
   "source": [
    "len(text)"
   ]
  },
  {
   "cell_type": "code",
   "execution_count": 11,
   "id": "9eb90016",
   "metadata": {},
   "outputs": [],
   "source": [
    "from nltk.corpus import stopwords\n",
    "import pandas as pd"
   ]
  },
  {
   "cell_type": "code",
   "execution_count": 7,
   "id": "17edd95e",
   "metadata": {},
   "outputs": [],
   "source": [
    "from nltk.tokenize import sent_tokenize"
   ]
  },
  {
   "cell_type": "code",
   "execution_count": 60,
   "id": "81d7cd73",
   "metadata": {},
   "outputs": [],
   "source": [
    "sent = sent_tokenize(text.lower())"
   ]
  },
  {
   "cell_type": "code",
   "execution_count": 61,
   "id": "25ca8a14",
   "metadata": {},
   "outputs": [
    {
     "data": {
      "text/plain": [
       "['peter and elizabeth took a taxi to attend the night party in the city.',\n",
       " 'while in the party, elizabeth collapsed and was rushed to the hospital.',\n",
       " 'since she was diagnosed with a brain injury, the doctor told peter to stay besides her until she gets well.',\n",
       " 'therefore, peter stayed with her at the hospital for 3 days without leaving']"
      ]
     },
     "execution_count": 61,
     "metadata": {},
     "output_type": "execute_result"
    }
   ],
   "source": [
    "sent"
   ]
  },
  {
   "cell_type": "code",
   "execution_count": 25,
   "id": "eedf3a4b",
   "metadata": {},
   "outputs": [],
   "source": [
    "final =  pd.DataFrame(sent, columns = [ 'sentenses'])"
   ]
  },
  {
   "cell_type": "code",
   "execution_count": 14,
   "id": "37cdab3c",
   "metadata": {},
   "outputs": [
    {
     "data": {
      "text/plain": [
       "['Peter and Elizabeth took a taxi to attend the night party in the city.',\n",
       " 'While in the party, Elizabeth collapsed and was rushed to the hospital.',\n",
       " 'Since she was diagnosed with a brain injury, the doctor told Peter to stay besides her until she gets well.',\n",
       " 'Therefore, Peter stayed with her at the hospital for 3 days without leaving']"
      ]
     },
     "execution_count": 14,
     "metadata": {},
     "output_type": "execute_result"
    }
   ],
   "source": [
    "sent"
   ]
  },
  {
   "cell_type": "code",
   "execution_count": 15,
   "id": "6cc3e137",
   "metadata": {},
   "outputs": [
    {
     "data": {
      "text/plain": [
       "4"
      ]
     },
     "execution_count": 15,
     "metadata": {},
     "output_type": "execute_result"
    }
   ],
   "source": [
    "len(sent)"
   ]
  },
  {
   "cell_type": "code",
   "execution_count": 26,
   "id": "87774fe1",
   "metadata": {},
   "outputs": [
    {
     "data": {
      "text/html": [
       "<div>\n",
       "<style scoped>\n",
       "    .dataframe tbody tr th:only-of-type {\n",
       "        vertical-align: middle;\n",
       "    }\n",
       "\n",
       "    .dataframe tbody tr th {\n",
       "        vertical-align: top;\n",
       "    }\n",
       "\n",
       "    .dataframe thead th {\n",
       "        text-align: right;\n",
       "    }\n",
       "</style>\n",
       "<table border=\"1\" class=\"dataframe\">\n",
       "  <thead>\n",
       "    <tr style=\"text-align: right;\">\n",
       "      <th></th>\n",
       "      <th>sentenses</th>\n",
       "    </tr>\n",
       "  </thead>\n",
       "  <tbody>\n",
       "    <tr>\n",
       "      <th>0</th>\n",
       "      <td>Peter and Elizabeth took a taxi to attend the ...</td>\n",
       "    </tr>\n",
       "    <tr>\n",
       "      <th>1</th>\n",
       "      <td>While in the party, Elizabeth collapsed and wa...</td>\n",
       "    </tr>\n",
       "    <tr>\n",
       "      <th>2</th>\n",
       "      <td>Since she was diagnosed with a brain injury, t...</td>\n",
       "    </tr>\n",
       "    <tr>\n",
       "      <th>3</th>\n",
       "      <td>Therefore, Peter stayed with her at the hospit...</td>\n",
       "    </tr>\n",
       "  </tbody>\n",
       "</table>\n",
       "</div>"
      ],
      "text/plain": [
       "                                           sentenses\n",
       "0  Peter and Elizabeth took a taxi to attend the ...\n",
       "1  While in the party, Elizabeth collapsed and wa...\n",
       "2  Since she was diagnosed with a brain injury, t...\n",
       "3  Therefore, Peter stayed with her at the hospit..."
      ]
     },
     "execution_count": 26,
     "metadata": {},
     "output_type": "execute_result"
    }
   ],
   "source": [
    "final"
   ]
  },
  {
   "cell_type": "code",
   "execution_count": 28,
   "id": "6f4926a2",
   "metadata": {},
   "outputs": [],
   "source": [
    "from nltk.tokenize import word_tokenize\n",
    "word = []\n",
    "for i  in sent:\n",
    "    word1 = word_tokenize(i)\n",
    "    word.append(word1)"
   ]
  },
  {
   "cell_type": "code",
   "execution_count": 34,
   "id": "96f1bed1",
   "metadata": {},
   "outputs": [
    {
     "data": {
      "text/plain": [
       "[['Peter',\n",
       "  'and',\n",
       "  'Elizabeth',\n",
       "  'took',\n",
       "  'a',\n",
       "  'taxi',\n",
       "  'to',\n",
       "  'attend',\n",
       "  'the',\n",
       "  'night',\n",
       "  'party',\n",
       "  'in',\n",
       "  'the',\n",
       "  'city',\n",
       "  '.'],\n",
       " ['While',\n",
       "  'in',\n",
       "  'the',\n",
       "  'party',\n",
       "  ',',\n",
       "  'Elizabeth',\n",
       "  'collapsed',\n",
       "  'and',\n",
       "  'was',\n",
       "  'rushed',\n",
       "  'to',\n",
       "  'the',\n",
       "  'hospital',\n",
       "  '.'],\n",
       " ['Since',\n",
       "  'she',\n",
       "  'was',\n",
       "  'diagnosed',\n",
       "  'with',\n",
       "  'a',\n",
       "  'brain',\n",
       "  'injury',\n",
       "  ',',\n",
       "  'the',\n",
       "  'doctor',\n",
       "  'told',\n",
       "  'Peter',\n",
       "  'to',\n",
       "  'stay',\n",
       "  'besides',\n",
       "  'her',\n",
       "  'until',\n",
       "  'she',\n",
       "  'gets',\n",
       "  'well',\n",
       "  '.'],\n",
       " ['Therefore',\n",
       "  ',',\n",
       "  'Peter',\n",
       "  'stayed',\n",
       "  'with',\n",
       "  'her',\n",
       "  'at',\n",
       "  'the',\n",
       "  'hospital',\n",
       "  'for',\n",
       "  '3',\n",
       "  'days',\n",
       "  'without',\n",
       "  'leaving']]"
      ]
     },
     "execution_count": 34,
     "metadata": {},
     "output_type": "execute_result"
    }
   ],
   "source": [
    "word"
   ]
  },
  {
   "cell_type": "code",
   "execution_count": 39,
   "id": "6c7c4531",
   "metadata": {},
   "outputs": [
    {
     "data": {
      "text/plain": [
       "['Therefore',\n",
       " ',',\n",
       " 'Peter',\n",
       " 'stayed',\n",
       " 'with',\n",
       " 'her',\n",
       " 'at',\n",
       " 'the',\n",
       " 'hospital',\n",
       " 'for',\n",
       " '3',\n",
       " 'days',\n",
       " 'without',\n",
       " 'leaving']"
      ]
     },
     "execution_count": 39,
     "metadata": {},
     "output_type": "execute_result"
    }
   ],
   "source": [
    "word1"
   ]
  },
  {
   "cell_type": "code",
   "execution_count": 40,
   "id": "e69b92f2",
   "metadata": {},
   "outputs": [],
   "source": [
    " word1_tokenized = word_tokenize(text)"
   ]
  },
  {
   "cell_type": "code",
   "execution_count": 41,
   "id": "b8fb58e0",
   "metadata": {},
   "outputs": [
    {
     "data": {
      "text/plain": [
       "['Peter',\n",
       " 'and',\n",
       " 'Elizabeth',\n",
       " 'took',\n",
       " 'a',\n",
       " 'taxi',\n",
       " 'to',\n",
       " 'attend',\n",
       " 'the',\n",
       " 'night',\n",
       " 'party',\n",
       " 'in',\n",
       " 'the',\n",
       " 'city',\n",
       " '.',\n",
       " 'While',\n",
       " 'in',\n",
       " 'the',\n",
       " 'party',\n",
       " ',',\n",
       " 'Elizabeth',\n",
       " 'collapsed',\n",
       " 'and',\n",
       " 'was',\n",
       " 'rushed',\n",
       " 'to',\n",
       " 'the',\n",
       " 'hospital',\n",
       " '.',\n",
       " 'Since',\n",
       " 'she',\n",
       " 'was',\n",
       " 'diagnosed',\n",
       " 'with',\n",
       " 'a',\n",
       " 'brain',\n",
       " 'injury',\n",
       " ',',\n",
       " 'the',\n",
       " 'doctor',\n",
       " 'told',\n",
       " 'Peter',\n",
       " 'to',\n",
       " 'stay',\n",
       " 'besides',\n",
       " 'her',\n",
       " 'until',\n",
       " 'she',\n",
       " 'gets',\n",
       " 'well',\n",
       " '.',\n",
       " 'Therefore',\n",
       " ',',\n",
       " 'Peter',\n",
       " 'stayed',\n",
       " 'with',\n",
       " 'her',\n",
       " 'at',\n",
       " 'the',\n",
       " 'hospital',\n",
       " 'for',\n",
       " '3',\n",
       " 'days',\n",
       " 'without',\n",
       " 'leaving']"
      ]
     },
     "execution_count": 41,
     "metadata": {},
     "output_type": "execute_result"
    }
   ],
   "source": [
    "word1_tokenized"
   ]
  },
  {
   "cell_type": "code",
   "execution_count": 43,
   "id": "425ed9fb",
   "metadata": {},
   "outputs": [],
   "source": [
    "review = [words.lower() for words in word1_tokenized if words not in stopwords.words('english') and words.isalpha()]"
   ]
  },
  {
   "cell_type": "code",
   "execution_count": 44,
   "id": "804ac5de",
   "metadata": {},
   "outputs": [
    {
     "data": {
      "text/plain": [
       "['peter',\n",
       " 'elizabeth',\n",
       " 'took',\n",
       " 'taxi',\n",
       " 'attend',\n",
       " 'night',\n",
       " 'party',\n",
       " 'city',\n",
       " 'while',\n",
       " 'party',\n",
       " 'elizabeth',\n",
       " 'collapsed',\n",
       " 'rushed',\n",
       " 'hospital',\n",
       " 'since',\n",
       " 'diagnosed',\n",
       " 'brain',\n",
       " 'injury',\n",
       " 'doctor',\n",
       " 'told',\n",
       " 'peter',\n",
       " 'stay',\n",
       " 'besides',\n",
       " 'gets',\n",
       " 'well',\n",
       " 'therefore',\n",
       " 'peter',\n",
       " 'stayed',\n",
       " 'hospital',\n",
       " 'days',\n",
       " 'without',\n",
       " 'leaving']"
      ]
     },
     "execution_count": 44,
     "metadata": {},
     "output_type": "execute_result"
    }
   ],
   "source": [
    "review"
   ]
  },
  {
   "cell_type": "code",
   "execution_count": 45,
   "id": "2f288908",
   "metadata": {},
   "outputs": [],
   "source": [
    "word_frequencies = {}\n",
    "for i in review:\n",
    "    \n",
    "    if i not in word_frequencies.keys():\n",
    "        word_frequencies[i] =1\n",
    "    else:\n",
    "        word_frequencies[i] +=1"
   ]
  },
  {
   "cell_type": "code",
   "execution_count": 46,
   "id": "bb86419f",
   "metadata": {},
   "outputs": [
    {
     "data": {
      "text/plain": [
       "{'peter': 3,\n",
       " 'elizabeth': 2,\n",
       " 'took': 1,\n",
       " 'taxi': 1,\n",
       " 'attend': 1,\n",
       " 'night': 1,\n",
       " 'party': 2,\n",
       " 'city': 1,\n",
       " 'while': 1,\n",
       " 'collapsed': 1,\n",
       " 'rushed': 1,\n",
       " 'hospital': 2,\n",
       " 'since': 1,\n",
       " 'diagnosed': 1,\n",
       " 'brain': 1,\n",
       " 'injury': 1,\n",
       " 'doctor': 1,\n",
       " 'told': 1,\n",
       " 'stay': 1,\n",
       " 'besides': 1,\n",
       " 'gets': 1,\n",
       " 'well': 1,\n",
       " 'therefore': 1,\n",
       " 'stayed': 1,\n",
       " 'days': 1,\n",
       " 'without': 1,\n",
       " 'leaving': 1}"
      ]
     },
     "execution_count": 46,
     "metadata": {},
     "output_type": "execute_result"
    }
   ],
   "source": [
    "word_frequencies"
   ]
  },
  {
   "cell_type": "code",
   "execution_count": 49,
   "id": "1b64477e",
   "metadata": {},
   "outputs": [
    {
     "name": "stdout",
     "output_type": "stream",
     "text": [
      "3\n"
     ]
    }
   ],
   "source": [
    "max_f = max(word_frequencies.values())\n",
    "print(max_f)"
   ]
  },
  {
   "cell_type": "code",
   "execution_count": 52,
   "id": "7d3f6bff",
   "metadata": {},
   "outputs": [],
   "source": [
    "for i in word_frequencies.keys():\n",
    "    word_frequencies[i] = word_frequencies[i]/max_f"
   ]
  },
  {
   "cell_type": "code",
   "execution_count": 53,
   "id": "0e747402",
   "metadata": {},
   "outputs": [
    {
     "data": {
      "text/plain": [
       "{'peter': 1.0,\n",
       " 'elizabeth': 0.6666666666666666,\n",
       " 'took': 0.3333333333333333,\n",
       " 'taxi': 0.3333333333333333,\n",
       " 'attend': 0.3333333333333333,\n",
       " 'night': 0.3333333333333333,\n",
       " 'party': 0.6666666666666666,\n",
       " 'city': 0.3333333333333333,\n",
       " 'while': 0.3333333333333333,\n",
       " 'collapsed': 0.3333333333333333,\n",
       " 'rushed': 0.3333333333333333,\n",
       " 'hospital': 0.6666666666666666,\n",
       " 'since': 0.3333333333333333,\n",
       " 'diagnosed': 0.3333333333333333,\n",
       " 'brain': 0.3333333333333333,\n",
       " 'injury': 0.3333333333333333,\n",
       " 'doctor': 0.3333333333333333,\n",
       " 'told': 0.3333333333333333,\n",
       " 'stay': 0.3333333333333333,\n",
       " 'besides': 0.3333333333333333,\n",
       " 'gets': 0.3333333333333333,\n",
       " 'well': 0.3333333333333333,\n",
       " 'therefore': 0.3333333333333333,\n",
       " 'stayed': 0.3333333333333333,\n",
       " 'days': 0.3333333333333333,\n",
       " 'without': 0.3333333333333333,\n",
       " 'leaving': 0.3333333333333333}"
      ]
     },
     "execution_count": 53,
     "metadata": {},
     "output_type": "execute_result"
    }
   ],
   "source": [
    "word_frequencies"
   ]
  },
  {
   "cell_type": "code",
   "execution_count": 62,
   "id": "2390a71e",
   "metadata": {},
   "outputs": [
    {
     "data": {
      "text/plain": [
       "['peter and elizabeth took a taxi to attend the night party in the city.',\n",
       " 'while in the party, elizabeth collapsed and was rushed to the hospital.',\n",
       " 'since she was diagnosed with a brain injury, the doctor told peter to stay besides her until she gets well.',\n",
       " 'therefore, peter stayed with her at the hospital for 3 days without leaving']"
      ]
     },
     "execution_count": 62,
     "metadata": {},
     "output_type": "execute_result"
    }
   ],
   "source": [
    "sent"
   ]
  },
  {
   "cell_type": "code",
   "execution_count": 111,
   "id": "c1b306cd",
   "metadata": {},
   "outputs": [],
   "source": [
    "sent_scores = {}\n",
    "for i in sent:\n",
    "    for word in i.split(' '):\n",
    "        if word.lower() in word_frequencies.keys():\n",
    "            if i not  in  sent_scores.keys():\n",
    "                sent_scores[i] = np.round(word_frequencies[word.lower()],2)\n",
    "            else:\n",
    "                sent_scores[i] += np.round(word_frequencies[word.lower()],2)\n",
    "            \n"
   ]
  },
  {
   "cell_type": "code",
   "execution_count": 112,
   "id": "42b5404d",
   "metadata": {},
   "outputs": [
    {
     "data": {
      "text/plain": [
       "{'peter and elizabeth took a taxi to attend the night party in the city.': 3.66,\n",
       " 'while in the party, elizabeth collapsed and was rushed to the hospital.': 1.6600000000000001,\n",
       " 'since she was diagnosed with a brain injury, the doctor told peter to stay besides her until she gets well.': 3.6400000000000006,\n",
       " 'therefore, peter stayed with her at the hospital for 3 days without leaving': 2.99}"
      ]
     },
     "execution_count": 112,
     "metadata": {},
     "output_type": "execute_result"
    }
   ],
   "source": [
    "sent_scores"
   ]
  },
  {
   "cell_type": "code",
   "execution_count": 113,
   "id": "a82d1af0",
   "metadata": {},
   "outputs": [
    {
     "name": "stdout",
     "output_type": "stream",
     "text": [
      "3.66\n"
     ]
    }
   ],
   "source": [
    "max_f_sent = np.round(max(sent_scores.values()),2)\n",
    "print(np.round(max_f_sent,2))"
   ]
  },
  {
   "cell_type": "code",
   "execution_count": 116,
   "id": "12a7b372",
   "metadata": {},
   "outputs": [],
   "source": [
    "str = []\n",
    "for i,id in sent_scores.items():\n",
    "    if id  >= max_f_sent:\n",
    "        str.append(i)"
   ]
  },
  {
   "cell_type": "code",
   "execution_count": 117,
   "id": "965ea7c5",
   "metadata": {},
   "outputs": [
    {
     "name": "stdout",
     "output_type": "stream",
     "text": [
      "['peter and elizabeth took a taxi to attend the night party in the city.']\n"
     ]
    }
   ],
   "source": [
    "print(str)"
   ]
  },
  {
   "cell_type": "code",
   "execution_count": null,
   "id": "3fc5248a",
   "metadata": {},
   "outputs": [],
   "source": []
  }
 ],
 "metadata": {
  "kernelspec": {
   "display_name": "Python 3",
   "language": "python",
   "name": "python3"
  },
  "language_info": {
   "codemirror_mode": {
    "name": "ipython",
    "version": 3
   },
   "file_extension": ".py",
   "mimetype": "text/x-python",
   "name": "python",
   "nbconvert_exporter": "python",
   "pygments_lexer": "ipython3",
   "version": "3.9.5"
  }
 },
 "nbformat": 4,
 "nbformat_minor": 5
}
